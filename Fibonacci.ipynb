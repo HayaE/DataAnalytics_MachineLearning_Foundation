{
  "nbformat": 4,
  "nbformat_minor": 0,
  "metadata": {
    "colab": {
      "provenance": []
    },
    "kernelspec": {
      "name": "python3",
      "display_name": "Python 3"
    },
    "language_info": {
      "name": "python"
    }
  },
  "cells": [
    {
      "cell_type": "markdown",
      "metadata": {
        "id": "7xsy0XNjPwGH"
      },
      "source": [
        "### APS1070 Fall 2021\n",
        "### Lecture 2"
      ]
    },
    {
      "cell_type": "markdown",
      "metadata": {
        "id": "cPLWwcrP7hxy"
      },
      "source": [
        "Slow and Fast Algorithms for the Fibonacci Sequence"
      ]
    },
    {
      "cell_type": "code",
      "metadata": {
        "id": "Bta8d2wb7iVv"
      },
      "source": [
        "# SLOWFIB\n",
        "\n",
        "def slowfib(n):\n",
        "  if n<0:\n",
        "    return(0)\n",
        "  elif n==0:\n",
        "    return(0)\n",
        "  elif n==1:\n",
        "    return(1)\n",
        "  else:\n",
        "    return(slowfib(n-1)+slowfib(n-2))"
      ],
      "execution_count": null,
      "outputs": []
    },
    {
      "cell_type": "code",
      "metadata": {
        "id": "ZvHaGzEI_fdl"
      },
      "source": [
        "# FASTFIB\n",
        "\n",
        "def fastfib(n):\n",
        "  if n<0:\n",
        "    return(0)\n",
        "  elif n==0:\n",
        "    return(0)\n",
        "  elif n==1:\n",
        "    return(1)\n",
        "  else:\n",
        "    a=1\n",
        "    b=0\n",
        "    i=2\n",
        "    for i in range(2,n+1):\n",
        "      t=a\n",
        "      a=a+b\n",
        "      b=t\n",
        "    return(a)"
      ],
      "execution_count": null,
      "outputs": []
    },
    {
      "cell_type": "code",
      "metadata": {
        "colab": {
          "base_uri": "https://localhost:8080/"
        },
        "id": "UOeQ8glQA1Vg",
        "outputId": "5fad7f63-3085-48f4-f096-2d86058cac84"
      },
      "source": [
        "from timeit import default_timer as timer\n",
        "from datetime import timedelta\n",
        "\n",
        "start = timer()\n",
        "# function call\n",
        "end = timer()\n",
        "\n",
        "print(timedelta(seconds=end-start))"
      ],
      "execution_count": null,
      "outputs": [
        {
          "output_type": "stream",
          "name": "stdout",
          "text": [
            "0:00:00.000015\n"
          ]
        }
      ]
    },
    {
      "cell_type": "code",
      "metadata": {
        "id": "r8RhORWX8BKh",
        "outputId": "d2351c3b-ea46-498e-958a-041c6e3870c3",
        "colab": {
          "base_uri": "https://localhost:8080/"
        }
      },
      "source": [
        "start = timer()\n",
        "slowfib(6)\n",
        "end = timer()\n",
        "\n",
        "print(timedelta(seconds=end-start))"
      ],
      "execution_count": null,
      "outputs": [
        {
          "output_type": "stream",
          "name": "stdout",
          "text": [
            "0:00:00.000051\n"
          ]
        }
      ]
    },
    {
      "cell_type": "code",
      "metadata": {
        "colab": {
          "base_uri": "https://localhost:8080/"
        },
        "id": "9BR4z6MAASDM",
        "outputId": "55444beb-05e4-4518-c32f-77550f748f66"
      },
      "source": [
        "start = timer()\n",
        "fastfib(60)\n",
        "end = timer()\n",
        "\n",
        "print(timedelta(seconds=end-start))"
      ],
      "execution_count": null,
      "outputs": [
        {
          "output_type": "stream",
          "name": "stdout",
          "text": [
            "0:00:00.000103\n"
          ]
        }
      ]
    },
    {
      "cell_type": "code",
      "metadata": {
        "id": "8cTRi8-D8Cql"
      },
      "source": [],
      "execution_count": null,
      "outputs": []
    }
  ]
}